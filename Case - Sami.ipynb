{
 "cells": [
  {
   "cell_type": "markdown",
   "metadata": {},
   "source": [
    "<b>Bibliotecas</b>"
   ]
  },
  {
   "cell_type": "code",
   "execution_count": 22,
   "metadata": {
    "ExecuteTime": {
     "end_time": "2020-07-11T16:54:15.522371Z",
     "start_time": "2020-07-11T16:54:15.518409Z"
    }
   },
   "outputs": [],
   "source": [
    "import pandas as pd\n",
    "import matplotlib.pyplot as plt"
   ]
  },
  {
   "cell_type": "markdown",
   "metadata": {},
   "source": [
    "Dado as tabelas TB_VENDEDOR e TB_VENDAS já compartilhadas , peço para que seja efetuada as seguintes tarefas.\n",
    "\n",
    "Lembrando que você poderá realizar o teste em excel, sheets, Power BI ou em qualquer ferramenta que tenha uma análise visual que respondam às perguntas abaixo. Ao finalizá-lo, deixe o link na caixa de respostas para que possamos avaliá-lo, ok?\n"
   ]
  },
  {
   "cell_type": "markdown",
   "metadata": {},
   "source": [
    "# Criar uma rotina de ETL (Integration Services), que importe a base de dados “baseDados.xlsx”"
   ]
  },
  {
   "cell_type": "code",
   "execution_count": 2,
   "metadata": {
    "ExecuteTime": {
     "end_time": "2020-07-11T16:52:38.255719Z",
     "start_time": "2020-07-11T16:52:38.247739Z"
    }
   },
   "outputs": [],
   "source": [
    "def etl(dados):\n",
    "    \n",
    "    df_vendedor = pd.read_excel(f'{dados}', sheet_name='TB_VENDEDOR')\n",
    "    df_vendas = pd.read_excel(f'{dados}', sheet_name='TB_VENDAS')\n",
    "    \n",
    "    return (df_vendedor, df_vendas)"
   ]
  },
  {
   "cell_type": "code",
   "execution_count": 3,
   "metadata": {
    "ExecuteTime": {
     "end_time": "2020-07-11T16:52:38.790576Z",
     "start_time": "2020-07-11T16:52:38.258711Z"
    }
   },
   "outputs": [],
   "source": [
    "df_vendedor = etl('TESTE PRATICO_BaseDados.xlsx')[0]\n",
    "df_vendas = etl('TESTE PRATICO_BaseDados.xlsx')[1]"
   ]
  },
  {
   "cell_type": "markdown",
   "metadata": {},
   "source": [
    "#  No pacote criado, marcar um flag na tabela TB_VENDEDOR para os mesmos que forem do estado “PR”. Pois estes vendedores serão inválidos para nossa apuração e análise.\n"
   ]
  },
  {
   "cell_type": "code",
   "execution_count": 4,
   "metadata": {
    "ExecuteTime": {
     "end_time": "2020-07-11T16:52:38.798558Z",
     "start_time": "2020-07-11T16:52:38.792588Z"
    }
   },
   "outputs": [],
   "source": [
    "def etl(dados):\n",
    "    \n",
    "    df_vendedor = pd.read_excel(f'{dados}', sheet_name='TB_VENDEDOR')\n",
    "    df_vendas = pd.read_excel(f'{dados}', sheet_name='TB_VENDAS')\n",
    "    \n",
    "    df_inner = pd.merge(df_vendas, df_vendedor, on='ID_VENDEDOR', how='left').reset_index(drop=True)\n",
    "    mask = df_inner['ESTADO'] != 'PR'\n",
    "    df = df_inner[mask]\n",
    "    \n",
    "    return df"
   ]
  },
  {
   "cell_type": "code",
   "execution_count": 5,
   "metadata": {
    "ExecuteTime": {
     "end_time": "2020-07-11T16:52:38.984332Z",
     "start_time": "2020-07-11T16:52:38.800554Z"
    }
   },
   "outputs": [],
   "source": [
    "df = etl('TESTE PRATICO_BaseDados.xlsx')"
   ]
  },
  {
   "cell_type": "code",
   "execution_count": 6,
   "metadata": {
    "ExecuteTime": {
     "end_time": "2020-07-11T16:52:39.308503Z",
     "start_time": "2020-07-11T16:52:38.988059Z"
    }
   },
   "outputs": [
    {
     "data": {
      "text/html": [
       "<div>\n",
       "<style scoped>\n",
       "    .dataframe tbody tr th:only-of-type {\n",
       "        vertical-align: middle;\n",
       "    }\n",
       "\n",
       "    .dataframe tbody tr th {\n",
       "        vertical-align: top;\n",
       "    }\n",
       "\n",
       "    .dataframe thead th {\n",
       "        text-align: right;\n",
       "    }\n",
       "</style>\n",
       "<table border=\"1\" class=\"dataframe\">\n",
       "  <thead>\n",
       "    <tr style=\"text-align: right;\">\n",
       "      <th></th>\n",
       "      <th>ID_VENDA</th>\n",
       "      <th>ID_VENDEDOR</th>\n",
       "      <th>VALOR_VENDA_R$</th>\n",
       "      <th>DATA</th>\n",
       "      <th>NOME_VENDEDOR</th>\n",
       "      <th>ESTADO</th>\n",
       "    </tr>\n",
       "  </thead>\n",
       "  <tbody>\n",
       "    <tr>\n",
       "      <th>2</th>\n",
       "      <td>3</td>\n",
       "      <td>1</td>\n",
       "      <td>56</td>\n",
       "      <td>2017-09-29</td>\n",
       "      <td>Vendedor 1</td>\n",
       "      <td>SP</td>\n",
       "    </tr>\n",
       "    <tr>\n",
       "      <th>3</th>\n",
       "      <td>4</td>\n",
       "      <td>1</td>\n",
       "      <td>89</td>\n",
       "      <td>2017-11-03</td>\n",
       "      <td>Vendedor 1</td>\n",
       "      <td>SP</td>\n",
       "    </tr>\n",
       "    <tr>\n",
       "      <th>4</th>\n",
       "      <td>5</td>\n",
       "      <td>2</td>\n",
       "      <td>546</td>\n",
       "      <td>2017-09-22</td>\n",
       "      <td>Vendedor 2</td>\n",
       "      <td>RJ</td>\n",
       "    </tr>\n",
       "    <tr>\n",
       "      <th>5</th>\n",
       "      <td>6</td>\n",
       "      <td>2</td>\n",
       "      <td>768</td>\n",
       "      <td>2017-09-29</td>\n",
       "      <td>Vendedor 2</td>\n",
       "      <td>RJ</td>\n",
       "    </tr>\n",
       "    <tr>\n",
       "      <th>6</th>\n",
       "      <td>7</td>\n",
       "      <td>2</td>\n",
       "      <td>120</td>\n",
       "      <td>2017-11-03</td>\n",
       "      <td>Vendedor 2</td>\n",
       "      <td>RJ</td>\n",
       "    </tr>\n",
       "    <tr>\n",
       "      <th>8</th>\n",
       "      <td>9</td>\n",
       "      <td>10</td>\n",
       "      <td>278</td>\n",
       "      <td>2017-07-23</td>\n",
       "      <td>Vendedor 10</td>\n",
       "      <td>MG</td>\n",
       "    </tr>\n",
       "    <tr>\n",
       "      <th>9</th>\n",
       "      <td>10</td>\n",
       "      <td>10</td>\n",
       "      <td>69</td>\n",
       "      <td>2017-10-27</td>\n",
       "      <td>Vendedor 10</td>\n",
       "      <td>MG</td>\n",
       "    </tr>\n",
       "    <tr>\n",
       "      <th>12</th>\n",
       "      <td>13</td>\n",
       "      <td>1</td>\n",
       "      <td>167</td>\n",
       "      <td>2017-07-23</td>\n",
       "      <td>Vendedor 1</td>\n",
       "      <td>SP</td>\n",
       "    </tr>\n",
       "    <tr>\n",
       "      <th>13</th>\n",
       "      <td>14</td>\n",
       "      <td>1</td>\n",
       "      <td>427</td>\n",
       "      <td>2017-08-10</td>\n",
       "      <td>Vendedor 1</td>\n",
       "      <td>SP</td>\n",
       "    </tr>\n",
       "    <tr>\n",
       "      <th>14</th>\n",
       "      <td>15</td>\n",
       "      <td>5</td>\n",
       "      <td>985</td>\n",
       "      <td>2017-12-09</td>\n",
       "      <td>Vendedor 5</td>\n",
       "      <td>MG</td>\n",
       "    </tr>\n",
       "    <tr>\n",
       "      <th>16</th>\n",
       "      <td>17</td>\n",
       "      <td>9</td>\n",
       "      <td>129</td>\n",
       "      <td>2017-09-29</td>\n",
       "      <td>Vendedor 9</td>\n",
       "      <td>RJ</td>\n",
       "    </tr>\n",
       "    <tr>\n",
       "      <th>17</th>\n",
       "      <td>18</td>\n",
       "      <td>9</td>\n",
       "      <td>236</td>\n",
       "      <td>2017-10-27</td>\n",
       "      <td>Vendedor 9</td>\n",
       "      <td>RJ</td>\n",
       "    </tr>\n",
       "    <tr>\n",
       "      <th>18</th>\n",
       "      <td>19</td>\n",
       "      <td>9</td>\n",
       "      <td>87</td>\n",
       "      <td>2017-10-29</td>\n",
       "      <td>Vendedor 9</td>\n",
       "      <td>RJ</td>\n",
       "    </tr>\n",
       "    <tr>\n",
       "      <th>19</th>\n",
       "      <td>20</td>\n",
       "      <td>10</td>\n",
       "      <td>335</td>\n",
       "      <td>2017-06-10</td>\n",
       "      <td>Vendedor 10</td>\n",
       "      <td>MG</td>\n",
       "    </tr>\n",
       "    <tr>\n",
       "      <th>20</th>\n",
       "      <td>21</td>\n",
       "      <td>10</td>\n",
       "      <td>561</td>\n",
       "      <td>2017-06-13</td>\n",
       "      <td>Vendedor 10</td>\n",
       "      <td>MG</td>\n",
       "    </tr>\n",
       "    <tr>\n",
       "      <th>23</th>\n",
       "      <td>24</td>\n",
       "      <td>4</td>\n",
       "      <td>1237</td>\n",
       "      <td>2017-07-23</td>\n",
       "      <td>Vendedor 4</td>\n",
       "      <td>SP</td>\n",
       "    </tr>\n",
       "    <tr>\n",
       "      <th>25</th>\n",
       "      <td>26</td>\n",
       "      <td>5</td>\n",
       "      <td>673</td>\n",
       "      <td>2017-11-11</td>\n",
       "      <td>Vendedor 5</td>\n",
       "      <td>MG</td>\n",
       "    </tr>\n",
       "    <tr>\n",
       "      <th>26</th>\n",
       "      <td>27</td>\n",
       "      <td>5</td>\n",
       "      <td>201</td>\n",
       "      <td>2017-12-05</td>\n",
       "      <td>Vendedor 5</td>\n",
       "      <td>MG</td>\n",
       "    </tr>\n",
       "    <tr>\n",
       "      <th>29</th>\n",
       "      <td>30</td>\n",
       "      <td>8</td>\n",
       "      <td>438</td>\n",
       "      <td>2017-12-05</td>\n",
       "      <td>Vendedor 8</td>\n",
       "      <td>SP</td>\n",
       "    </tr>\n",
       "    <tr>\n",
       "      <th>30</th>\n",
       "      <td>31</td>\n",
       "      <td>8</td>\n",
       "      <td>128</td>\n",
       "      <td>2017-12-09</td>\n",
       "      <td>Vendedor 8</td>\n",
       "      <td>SP</td>\n",
       "    </tr>\n",
       "    <tr>\n",
       "      <th>31</th>\n",
       "      <td>32</td>\n",
       "      <td>9</td>\n",
       "      <td>456</td>\n",
       "      <td>2017-09-22</td>\n",
       "      <td>Vendedor 9</td>\n",
       "      <td>RJ</td>\n",
       "    </tr>\n",
       "    <tr>\n",
       "      <th>32</th>\n",
       "      <td>33</td>\n",
       "      <td>1</td>\n",
       "      <td>200</td>\n",
       "      <td>2017-06-10</td>\n",
       "      <td>Vendedor 1</td>\n",
       "      <td>SP</td>\n",
       "    </tr>\n",
       "    <tr>\n",
       "      <th>33</th>\n",
       "      <td>34</td>\n",
       "      <td>1</td>\n",
       "      <td>375</td>\n",
       "      <td>2017-06-13</td>\n",
       "      <td>Vendedor 1</td>\n",
       "      <td>SP</td>\n",
       "    </tr>\n",
       "    <tr>\n",
       "      <th>34</th>\n",
       "      <td>35</td>\n",
       "      <td>10</td>\n",
       "      <td>328</td>\n",
       "      <td>2017-10-29</td>\n",
       "      <td>Vendedor 10</td>\n",
       "      <td>MG</td>\n",
       "    </tr>\n",
       "    <tr>\n",
       "      <th>37</th>\n",
       "      <td>38</td>\n",
       "      <td>1</td>\n",
       "      <td>1045</td>\n",
       "      <td>2017-09-22</td>\n",
       "      <td>Vendedor 1</td>\n",
       "      <td>SP</td>\n",
       "    </tr>\n",
       "    <tr>\n",
       "      <th>38</th>\n",
       "      <td>39</td>\n",
       "      <td>4</td>\n",
       "      <td>895</td>\n",
       "      <td>2017-08-10</td>\n",
       "      <td>Vendedor 4</td>\n",
       "      <td>SP</td>\n",
       "    </tr>\n",
       "    <tr>\n",
       "      <th>39</th>\n",
       "      <td>40</td>\n",
       "      <td>4</td>\n",
       "      <td>790</td>\n",
       "      <td>2017-09-22</td>\n",
       "      <td>Vendedor 4</td>\n",
       "      <td>SP</td>\n",
       "    </tr>\n",
       "    <tr>\n",
       "      <th>40</th>\n",
       "      <td>41</td>\n",
       "      <td>4</td>\n",
       "      <td>936</td>\n",
       "      <td>2017-09-29</td>\n",
       "      <td>Vendedor 4</td>\n",
       "      <td>SP</td>\n",
       "    </tr>\n",
       "  </tbody>\n",
       "</table>\n",
       "</div>"
      ],
      "text/plain": [
       "    ID_VENDA  ID_VENDEDOR  VALOR_VENDA_R$       DATA NOME_VENDEDOR ESTADO\n",
       "2          3            1              56 2017-09-29    Vendedor 1     SP\n",
       "3          4            1              89 2017-11-03    Vendedor 1     SP\n",
       "4          5            2             546 2017-09-22    Vendedor 2     RJ\n",
       "5          6            2             768 2017-09-29    Vendedor 2     RJ\n",
       "6          7            2             120 2017-11-03    Vendedor 2     RJ\n",
       "8          9           10             278 2017-07-23   Vendedor 10     MG\n",
       "9         10           10              69 2017-10-27   Vendedor 10     MG\n",
       "12        13            1             167 2017-07-23    Vendedor 1     SP\n",
       "13        14            1             427 2017-08-10    Vendedor 1     SP\n",
       "14        15            5             985 2017-12-09    Vendedor 5     MG\n",
       "16        17            9             129 2017-09-29    Vendedor 9     RJ\n",
       "17        18            9             236 2017-10-27    Vendedor 9     RJ\n",
       "18        19            9              87 2017-10-29    Vendedor 9     RJ\n",
       "19        20           10             335 2017-06-10   Vendedor 10     MG\n",
       "20        21           10             561 2017-06-13   Vendedor 10     MG\n",
       "23        24            4            1237 2017-07-23    Vendedor 4     SP\n",
       "25        26            5             673 2017-11-11    Vendedor 5     MG\n",
       "26        27            5             201 2017-12-05    Vendedor 5     MG\n",
       "29        30            8             438 2017-12-05    Vendedor 8     SP\n",
       "30        31            8             128 2017-12-09    Vendedor 8     SP\n",
       "31        32            9             456 2017-09-22    Vendedor 9     RJ\n",
       "32        33            1             200 2017-06-10    Vendedor 1     SP\n",
       "33        34            1             375 2017-06-13    Vendedor 1     SP\n",
       "34        35           10             328 2017-10-29   Vendedor 10     MG\n",
       "37        38            1            1045 2017-09-22    Vendedor 1     SP\n",
       "38        39            4             895 2017-08-10    Vendedor 4     SP\n",
       "39        40            4             790 2017-09-22    Vendedor 4     SP\n",
       "40        41            4             936 2017-09-29    Vendedor 4     SP"
      ]
     },
     "execution_count": 6,
     "metadata": {},
     "output_type": "execute_result"
    }
   ],
   "source": [
    "df"
   ]
  },
  {
   "cell_type": "markdown",
   "metadata": {},
   "source": [
    "# Faremos uma apuração das vendas por vendedor, em que geraremos um arquivo .csv contendo os campos ID_VENDEDOR, BONUS_R$.\n",
    "\n",
    "Onde bônus será:\n",
    "\n",
    "Vendedor que a soma das vendas seja até R$ 1.000,00 (Bônus de R$ 500,00)\n",
    "\n",
    "Vendedor que a soma das vendas seja entre R$ 1.000,01 e R$ 2.000,00 (Bônus de R$ 750,00)\n",
    "\n",
    "Vendedor que a soma das vendas seja mais R$ 2.000,00 (Bônus de R$ 1.000,00)"
   ]
  },
  {
   "cell_type": "code",
   "execution_count": 7,
   "metadata": {
    "ExecuteTime": {
     "end_time": "2020-07-11T16:52:39.465588Z",
     "start_time": "2020-07-11T16:52:39.311491Z"
    }
   },
   "outputs": [],
   "source": [
    "df_3 = df.groupby('ID_VENDEDOR')[['VALOR_VENDA_R$']].sum().reset_index()"
   ]
  },
  {
   "cell_type": "code",
   "execution_count": 8,
   "metadata": {
    "ExecuteTime": {
     "end_time": "2020-07-11T16:52:39.584298Z",
     "start_time": "2020-07-11T16:52:39.468580Z"
    }
   },
   "outputs": [
    {
     "data": {
      "text/html": [
       "<div>\n",
       "<style scoped>\n",
       "    .dataframe tbody tr th:only-of-type {\n",
       "        vertical-align: middle;\n",
       "    }\n",
       "\n",
       "    .dataframe tbody tr th {\n",
       "        vertical-align: top;\n",
       "    }\n",
       "\n",
       "    .dataframe thead th {\n",
       "        text-align: right;\n",
       "    }\n",
       "</style>\n",
       "<table border=\"1\" class=\"dataframe\">\n",
       "  <thead>\n",
       "    <tr style=\"text-align: right;\">\n",
       "      <th></th>\n",
       "      <th>ID_VENDEDOR</th>\n",
       "      <th>VALOR_VENDA_R$</th>\n",
       "    </tr>\n",
       "  </thead>\n",
       "  <tbody>\n",
       "    <tr>\n",
       "      <th>0</th>\n",
       "      <td>1</td>\n",
       "      <td>2359</td>\n",
       "    </tr>\n",
       "    <tr>\n",
       "      <th>1</th>\n",
       "      <td>2</td>\n",
       "      <td>1434</td>\n",
       "    </tr>\n",
       "    <tr>\n",
       "      <th>2</th>\n",
       "      <td>4</td>\n",
       "      <td>3858</td>\n",
       "    </tr>\n",
       "    <tr>\n",
       "      <th>3</th>\n",
       "      <td>5</td>\n",
       "      <td>1859</td>\n",
       "    </tr>\n",
       "    <tr>\n",
       "      <th>4</th>\n",
       "      <td>8</td>\n",
       "      <td>566</td>\n",
       "    </tr>\n",
       "    <tr>\n",
       "      <th>5</th>\n",
       "      <td>9</td>\n",
       "      <td>908</td>\n",
       "    </tr>\n",
       "    <tr>\n",
       "      <th>6</th>\n",
       "      <td>10</td>\n",
       "      <td>1571</td>\n",
       "    </tr>\n",
       "  </tbody>\n",
       "</table>\n",
       "</div>"
      ],
      "text/plain": [
       "   ID_VENDEDOR  VALOR_VENDA_R$\n",
       "0            1            2359\n",
       "1            2            1434\n",
       "2            4            3858\n",
       "3            5            1859\n",
       "4            8             566\n",
       "5            9             908\n",
       "6           10            1571"
      ]
     },
     "execution_count": 8,
     "metadata": {},
     "output_type": "execute_result"
    }
   ],
   "source": [
    "df_3"
   ]
  },
  {
   "cell_type": "code",
   "execution_count": 9,
   "metadata": {
    "ExecuteTime": {
     "end_time": "2020-07-11T16:52:39.744980Z",
     "start_time": "2020-07-11T16:52:39.588285Z"
    }
   },
   "outputs": [],
   "source": [
    "df_3['BONUS_R$'] = 0\n",
    "for valor in range(len(df_3['VALOR_VENDA_R$'])):\n",
    "    if df_3['VALOR_VENDA_R$'][valor] <= 1000:\n",
    "        df_3['BONUS_R$'][valor] = 500\n",
    "    elif 1000 < df_3['VALOR_VENDA_R$'][valor] <= 2000:\n",
    "        df_3['BONUS_R$'][valor] = 750\n",
    "    else:\n",
    "        df_3['BONUS_R$'][valor] = 1000"
   ]
  },
  {
   "cell_type": "code",
   "execution_count": 10,
   "metadata": {
    "ExecuteTime": {
     "end_time": "2020-07-11T16:52:39.929800Z",
     "start_time": "2020-07-11T16:52:39.747889Z"
    }
   },
   "outputs": [],
   "source": [
    "df_3.drop(columns=['VALOR_VENDA_R$']).to_csv('Bonus')"
   ]
  },
  {
   "cell_type": "markdown",
   "metadata": {},
   "source": [
    "# Precisamos gerar os seguintes relatórios (Reporting Services, Power BI, Excel, ...)"
   ]
  },
  {
   "cell_type": "markdown",
   "metadata": {},
   "source": [
    " ## Qtd e total das vendas por estado;"
   ]
  },
  {
   "cell_type": "code",
   "execution_count": 11,
   "metadata": {
    "ExecuteTime": {
     "end_time": "2020-07-11T16:52:40.041693Z",
     "start_time": "2020-07-11T16:52:39.937790Z"
    }
   },
   "outputs": [
    {
     "data": {
      "text/plain": [
       "SP    13\n",
       "MG     8\n",
       "RJ     7\n",
       "Name: ESTADO, dtype: int64"
      ]
     },
     "execution_count": 11,
     "metadata": {},
     "output_type": "execute_result"
    }
   ],
   "source": [
    "df['ESTADO'].value_counts()"
   ]
  },
  {
   "cell_type": "code",
   "execution_count": 33,
   "metadata": {
    "ExecuteTime": {
     "end_time": "2020-07-11T16:59:56.387396Z",
     "start_time": "2020-07-11T16:59:56.245777Z"
    },
    "scrolled": true
   },
   "outputs": [
    {
     "data": {
      "text/plain": [
       "<matplotlib.axes._subplots.AxesSubplot at 0x2a3b38d5608>"
      ]
     },
     "execution_count": 33,
     "metadata": {},
     "output_type": "execute_result"
    },
    {
     "data": {
      "image/png": "[encoded data removed]",
      "text/plain": [
       "<Figure size 432x288 with 1 Axes>"
      ]
     },
     "metadata": {
      "needs_background": "light"
     },
     "output_type": "display_data"
    }
   ],
   "source": [
    "pd.Series(df['ESTADO']).value_counts(ascending=True).plot(kind='bar', color='magenta')"
   ]
  },
  {
   "cell_type": "code",
   "execution_count": 40,
   "metadata": {
    "ExecuteTime": {
     "end_time": "2020-07-11T17:02:16.526422Z",
     "start_time": "2020-07-11T17:02:16.512463Z"
    }
   },
   "outputs": [],
   "source": [
    "df_estado = df.groupby([\"ESTADO\"])[['VALOR_VENDA_R$']].sum().reset_index().sort_values(by='VALOR_VENDA_R$' ,ascending=True)"
   ]
  },
  {
   "cell_type": "code",
   "execution_count": 42,
   "metadata": {
    "ExecuteTime": {
     "end_time": "2020-07-11T17:02:31.694159Z",
     "start_time": "2020-07-11T17:02:31.571966Z"
    }
   },
   "outputs": [
    {
     "data": {
      "image/png": "[encoded data removed]",
      "text/plain": [
       "<Figure size 432x288 with 1 Axes>"
      ]
     },
     "metadata": {
      "needs_background": "light"
     },
     "output_type": "display_data"
    }
   ],
   "source": [
    "plt.bar(df_estado['ESTADO'], df_estado['VALOR_VENDA_R$'], color='magenta')\n",
    "plt.show()"
   ]
  },
  {
   "cell_type": "markdown",
   "metadata": {},
   "source": [
    "## Qtd e total das vendas por mês;"
   ]
  },
  {
   "cell_type": "code",
   "execution_count": 27,
   "metadata": {
    "ExecuteTime": {
     "end_time": "2020-07-11T16:56:34.262313Z",
     "start_time": "2020-07-11T16:56:34.240371Z"
    }
   },
   "outputs": [
    {
     "name": "stderr",
     "output_type": "stream",
     "text": [
      "C:\\Users\\yukar\\anaconda3\\lib\\site-packages\\ipykernel_launcher.py:4: SettingWithCopyWarning: \n",
      "A value is trying to be set on a copy of a slice from a DataFrame\n",
      "\n",
      "See the caveats in the documentation: https://pandas.pydata.org/pandas-docs/stable/user_guide/indexing.html#returning-a-view-versus-a-copy\n",
      "  after removing the cwd from sys.path.\n"
     ]
    }
   ],
   "source": [
    "df = df.reset_index(drop=True)\n",
    "df['MONTH'] = 'month'\n",
    "for month in range(len(df['DATA'])):\n",
    "    df['MONTH'][month] = df['DATA'][month].month"
   ]
  },
  {
   "cell_type": "code",
   "execution_count": 55,
   "metadata": {
    "ExecuteTime": {
     "end_time": "2020-07-11T17:09:04.678094Z",
     "start_time": "2020-07-11T17:09:04.532485Z"
    }
   },
   "outputs": [
    {
     "data": {
      "text/plain": [
       "<matplotlib.axes._subplots.AxesSubplot at 0x2a3bb5de608>"
      ]
     },
     "execution_count": 55,
     "metadata": {},
     "output_type": "execute_result"
    },
    {
     "data": {
      "image/png": "[encoded data removed]",
      "text/plain": [
       "<Figure size 432x288 with 1 Axes>"
      ]
     },
     "metadata": {
      "needs_background": "light"
     },
     "output_type": "display_data"
    }
   ],
   "source": [
    "pd.Series(df['MONTH']).value_counts().plot(kind='bar', color='magenta')"
   ]
  },
  {
   "cell_type": "code",
   "execution_count": 44,
   "metadata": {
    "ExecuteTime": {
     "end_time": "2020-07-11T17:03:42.528899Z",
     "start_time": "2020-07-11T17:03:42.517928Z"
    }
   },
   "outputs": [],
   "source": [
    "df_mes = df.groupby([\"MONTH\"])[['VALOR_VENDA_R$']].sum().reset_index().sort_values(by='VALOR_VENDA_R$' ,ascending=True)"
   ]
  },
  {
   "cell_type": "code",
   "execution_count": 46,
   "metadata": {
    "ExecuteTime": {
     "end_time": "2020-07-11T17:03:55.271290Z",
     "start_time": "2020-07-11T17:03:55.127696Z"
    }
   },
   "outputs": [
    {
     "data": {
      "image/png": "[encoded data removed]",
      "text/plain": [
       "<Figure size 432x288 with 1 Axes>"
      ]
     },
     "metadata": {
      "needs_background": "light"
     },
     "output_type": "display_data"
    }
   ],
   "source": [
    "plt.bar(df_mes['MONTH'], df_mes['VALOR_VENDA_R$'], color='magenta')\n",
    "plt.show()"
   ]
  },
  {
   "cell_type": "markdown",
   "metadata": {},
   "source": [
    "##  Por vendedor: A média do valor de vendas, quantos dias entre a primeira e última venda;"
   ]
  },
  {
   "cell_type": "code",
   "execution_count": 53,
   "metadata": {
    "ExecuteTime": {
     "end_time": "2020-07-11T17:08:30.422258Z",
     "start_time": "2020-07-11T17:08:30.413282Z"
    }
   },
   "outputs": [],
   "source": [
    "df_valor = df.groupby('ID_VENDEDOR')[['VALOR_VENDA_R$']].mean().reset_index().rename(columns={'VALOR_VENDA_R$': 'MEDIA_VENDAS_R$'})"
   ]
  },
  {
   "cell_type": "code",
   "execution_count": 64,
   "metadata": {
    "ExecuteTime": {
     "end_time": "2020-07-11T17:17:08.657717Z",
     "start_time": "2020-07-11T17:17:08.651733Z"
    }
   },
   "outputs": [],
   "source": [
    "df_dias = df.sort_values(by='DATA' ,ascending=True)"
   ]
  },
  {
   "cell_type": "code",
   "execution_count": 65,
   "metadata": {
    "ExecuteTime": {
     "end_time": "2020-07-11T17:17:11.857726Z",
     "start_time": "2020-07-11T17:17:11.837780Z"
    }
   },
   "outputs": [
    {
     "data": {
      "text/html": [
       "<div>\n",
       "<style scoped>\n",
       "    .dataframe tbody tr th:only-of-type {\n",
       "        vertical-align: middle;\n",
       "    }\n",
       "\n",
       "    .dataframe tbody tr th {\n",
       "        vertical-align: top;\n",
       "    }\n",
       "\n",
       "    .dataframe thead th {\n",
       "        text-align: right;\n",
       "    }\n",
       "</style>\n",
       "<table border=\"1\" class=\"dataframe\">\n",
       "  <thead>\n",
       "    <tr style=\"text-align: right;\">\n",
       "      <th></th>\n",
       "      <th>ID_VENDA</th>\n",
       "      <th>ID_VENDEDOR</th>\n",
       "      <th>VALOR_VENDA_R$</th>\n",
       "      <th>DATA</th>\n",
       "      <th>NOME_VENDEDOR</th>\n",
       "      <th>ESTADO</th>\n",
       "      <th>MONTH</th>\n",
       "    </tr>\n",
       "  </thead>\n",
       "  <tbody>\n",
       "    <tr>\n",
       "      <th>13</th>\n",
       "      <td>20</td>\n",
       "      <td>10</td>\n",
       "      <td>335</td>\n",
       "      <td>2017-06-10</td>\n",
       "      <td>Vendedor 10</td>\n",
       "      <td>MG</td>\n",
       "      <td>6</td>\n",
       "    </tr>\n",
       "    <tr>\n",
       "      <th>21</th>\n",
       "      <td>33</td>\n",
       "      <td>1</td>\n",
       "      <td>200</td>\n",
       "      <td>2017-06-10</td>\n",
       "      <td>Vendedor 1</td>\n",
       "      <td>SP</td>\n",
       "      <td>6</td>\n",
       "    </tr>\n",
       "    <tr>\n",
       "      <th>22</th>\n",
       "      <td>34</td>\n",
       "      <td>1</td>\n",
       "      <td>375</td>\n",
       "      <td>2017-06-13</td>\n",
       "      <td>Vendedor 1</td>\n",
       "      <td>SP</td>\n",
       "      <td>6</td>\n",
       "    </tr>\n",
       "    <tr>\n",
       "      <th>14</th>\n",
       "      <td>21</td>\n",
       "      <td>10</td>\n",
       "      <td>561</td>\n",
       "      <td>2017-06-13</td>\n",
       "      <td>Vendedor 10</td>\n",
       "      <td>MG</td>\n",
       "      <td>6</td>\n",
       "    </tr>\n",
       "    <tr>\n",
       "      <th>5</th>\n",
       "      <td>9</td>\n",
       "      <td>10</td>\n",
       "      <td>278</td>\n",
       "      <td>2017-07-23</td>\n",
       "      <td>Vendedor 10</td>\n",
       "      <td>MG</td>\n",
       "      <td>7</td>\n",
       "    </tr>\n",
       "    <tr>\n",
       "      <th>7</th>\n",
       "      <td>13</td>\n",
       "      <td>1</td>\n",
       "      <td>167</td>\n",
       "      <td>2017-07-23</td>\n",
       "      <td>Vendedor 1</td>\n",
       "      <td>SP</td>\n",
       "      <td>7</td>\n",
       "    </tr>\n",
       "    <tr>\n",
       "      <th>15</th>\n",
       "      <td>24</td>\n",
       "      <td>4</td>\n",
       "      <td>1237</td>\n",
       "      <td>2017-07-23</td>\n",
       "      <td>Vendedor 4</td>\n",
       "      <td>SP</td>\n",
       "      <td>7</td>\n",
       "    </tr>\n",
       "    <tr>\n",
       "      <th>25</th>\n",
       "      <td>39</td>\n",
       "      <td>4</td>\n",
       "      <td>895</td>\n",
       "      <td>2017-08-10</td>\n",
       "      <td>Vendedor 4</td>\n",
       "      <td>SP</td>\n",
       "      <td>8</td>\n",
       "    </tr>\n",
       "    <tr>\n",
       "      <th>8</th>\n",
       "      <td>14</td>\n",
       "      <td>1</td>\n",
       "      <td>427</td>\n",
       "      <td>2017-08-10</td>\n",
       "      <td>Vendedor 1</td>\n",
       "      <td>SP</td>\n",
       "      <td>8</td>\n",
       "    </tr>\n",
       "    <tr>\n",
       "      <th>2</th>\n",
       "      <td>5</td>\n",
       "      <td>2</td>\n",
       "      <td>546</td>\n",
       "      <td>2017-09-22</td>\n",
       "      <td>Vendedor 2</td>\n",
       "      <td>RJ</td>\n",
       "      <td>9</td>\n",
       "    </tr>\n",
       "    <tr>\n",
       "      <th>24</th>\n",
       "      <td>38</td>\n",
       "      <td>1</td>\n",
       "      <td>1045</td>\n",
       "      <td>2017-09-22</td>\n",
       "      <td>Vendedor 1</td>\n",
       "      <td>SP</td>\n",
       "      <td>9</td>\n",
       "    </tr>\n",
       "    <tr>\n",
       "      <th>20</th>\n",
       "      <td>32</td>\n",
       "      <td>9</td>\n",
       "      <td>456</td>\n",
       "      <td>2017-09-22</td>\n",
       "      <td>Vendedor 9</td>\n",
       "      <td>RJ</td>\n",
       "      <td>9</td>\n",
       "    </tr>\n",
       "    <tr>\n",
       "      <th>26</th>\n",
       "      <td>40</td>\n",
       "      <td>4</td>\n",
       "      <td>790</td>\n",
       "      <td>2017-09-22</td>\n",
       "      <td>Vendedor 4</td>\n",
       "      <td>SP</td>\n",
       "      <td>9</td>\n",
       "    </tr>\n",
       "    <tr>\n",
       "      <th>0</th>\n",
       "      <td>3</td>\n",
       "      <td>1</td>\n",
       "      <td>56</td>\n",
       "      <td>2017-09-29</td>\n",
       "      <td>Vendedor 1</td>\n",
       "      <td>SP</td>\n",
       "      <td>9</td>\n",
       "    </tr>\n",
       "    <tr>\n",
       "      <th>10</th>\n",
       "      <td>17</td>\n",
       "      <td>9</td>\n",
       "      <td>129</td>\n",
       "      <td>2017-09-29</td>\n",
       "      <td>Vendedor 9</td>\n",
       "      <td>RJ</td>\n",
       "      <td>9</td>\n",
       "    </tr>\n",
       "    <tr>\n",
       "      <th>3</th>\n",
       "      <td>6</td>\n",
       "      <td>2</td>\n",
       "      <td>768</td>\n",
       "      <td>2017-09-29</td>\n",
       "      <td>Vendedor 2</td>\n",
       "      <td>RJ</td>\n",
       "      <td>9</td>\n",
       "    </tr>\n",
       "    <tr>\n",
       "      <th>27</th>\n",
       "      <td>41</td>\n",
       "      <td>4</td>\n",
       "      <td>936</td>\n",
       "      <td>2017-09-29</td>\n",
       "      <td>Vendedor 4</td>\n",
       "      <td>SP</td>\n",
       "      <td>9</td>\n",
       "    </tr>\n",
       "    <tr>\n",
       "      <th>11</th>\n",
       "      <td>18</td>\n",
       "      <td>9</td>\n",
       "      <td>236</td>\n",
       "      <td>2017-10-27</td>\n",
       "      <td>Vendedor 9</td>\n",
       "      <td>RJ</td>\n",
       "      <td>10</td>\n",
       "    </tr>\n",
       "    <tr>\n",
       "      <th>6</th>\n",
       "      <td>10</td>\n",
       "      <td>10</td>\n",
       "      <td>69</td>\n",
       "      <td>2017-10-27</td>\n",
       "      <td>Vendedor 10</td>\n",
       "      <td>MG</td>\n",
       "      <td>10</td>\n",
       "    </tr>\n",
       "    <tr>\n",
       "      <th>23</th>\n",
       "      <td>35</td>\n",
       "      <td>10</td>\n",
       "      <td>328</td>\n",
       "      <td>2017-10-29</td>\n",
       "      <td>Vendedor 10</td>\n",
       "      <td>MG</td>\n",
       "      <td>10</td>\n",
       "    </tr>\n",
       "    <tr>\n",
       "      <th>12</th>\n",
       "      <td>19</td>\n",
       "      <td>9</td>\n",
       "      <td>87</td>\n",
       "      <td>2017-10-29</td>\n",
       "      <td>Vendedor 9</td>\n",
       "      <td>RJ</td>\n",
       "      <td>10</td>\n",
       "    </tr>\n",
       "    <tr>\n",
       "      <th>4</th>\n",
       "      <td>7</td>\n",
       "      <td>2</td>\n",
       "      <td>120</td>\n",
       "      <td>2017-11-03</td>\n",
       "      <td>Vendedor 2</td>\n",
       "      <td>RJ</td>\n",
       "      <td>11</td>\n",
       "    </tr>\n",
       "    <tr>\n",
       "      <th>1</th>\n",
       "      <td>4</td>\n",
       "      <td>1</td>\n",
       "      <td>89</td>\n",
       "      <td>2017-11-03</td>\n",
       "      <td>Vendedor 1</td>\n",
       "      <td>SP</td>\n",
       "      <td>11</td>\n",
       "    </tr>\n",
       "    <tr>\n",
       "      <th>16</th>\n",
       "      <td>26</td>\n",
       "      <td>5</td>\n",
       "      <td>673</td>\n",
       "      <td>2017-11-11</td>\n",
       "      <td>Vendedor 5</td>\n",
       "      <td>MG</td>\n",
       "      <td>11</td>\n",
       "    </tr>\n",
       "    <tr>\n",
       "      <th>17</th>\n",
       "      <td>27</td>\n",
       "      <td>5</td>\n",
       "      <td>201</td>\n",
       "      <td>2017-12-05</td>\n",
       "      <td>Vendedor 5</td>\n",
       "      <td>MG</td>\n",
       "      <td>12</td>\n",
       "    </tr>\n",
       "    <tr>\n",
       "      <th>18</th>\n",
       "      <td>30</td>\n",
       "      <td>8</td>\n",
       "      <td>438</td>\n",
       "      <td>2017-12-05</td>\n",
       "      <td>Vendedor 8</td>\n",
       "      <td>SP</td>\n",
       "      <td>12</td>\n",
       "    </tr>\n",
       "    <tr>\n",
       "      <th>19</th>\n",
       "      <td>31</td>\n",
       "      <td>8</td>\n",
       "      <td>128</td>\n",
       "      <td>2017-12-09</td>\n",
       "      <td>Vendedor 8</td>\n",
       "      <td>SP</td>\n",
       "      <td>12</td>\n",
       "    </tr>\n",
       "    <tr>\n",
       "      <th>9</th>\n",
       "      <td>15</td>\n",
       "      <td>5</td>\n",
       "      <td>985</td>\n",
       "      <td>2017-12-09</td>\n",
       "      <td>Vendedor 5</td>\n",
       "      <td>MG</td>\n",
       "      <td>12</td>\n",
       "    </tr>\n",
       "  </tbody>\n",
       "</table>\n",
       "</div>"
      ],
      "text/plain": [
       "    ID_VENDA  ID_VENDEDOR  VALOR_VENDA_R$       DATA NOME_VENDEDOR ESTADO  \\\n",
       "13        20           10             335 2017-06-10   Vendedor 10     MG   \n",
       "21        33            1             200 2017-06-10    Vendedor 1     SP   \n",
       "22        34            1             375 2017-06-13    Vendedor 1     SP   \n",
       "14        21           10             561 2017-06-13   Vendedor 10     MG   \n",
       "5          9           10             278 2017-07-23   Vendedor 10     MG   \n",
       "7         13            1             167 2017-07-23    Vendedor 1     SP   \n",
       "15        24            4            1237 2017-07-23    Vendedor 4     SP   \n",
       "25        39            4             895 2017-08-10    Vendedor 4     SP   \n",
       "8         14            1             427 2017-08-10    Vendedor 1     SP   \n",
       "2          5            2             546 2017-09-22    Vendedor 2     RJ   \n",
       "24        38            1            1045 2017-09-22    Vendedor 1     SP   \n",
       "20        32            9             456 2017-09-22    Vendedor 9     RJ   \n",
       "26        40            4             790 2017-09-22    Vendedor 4     SP   \n",
       "0          3            1              56 2017-09-29    Vendedor 1     SP   \n",
       "10        17            9             129 2017-09-29    Vendedor 9     RJ   \n",
       "3          6            2             768 2017-09-29    Vendedor 2     RJ   \n",
       "27        41            4             936 2017-09-29    Vendedor 4     SP   \n",
       "11        18            9             236 2017-10-27    Vendedor 9     RJ   \n",
       "6         10           10              69 2017-10-27   Vendedor 10     MG   \n",
       "23        35           10             328 2017-10-29   Vendedor 10     MG   \n",
       "12        19            9              87 2017-10-29    Vendedor 9     RJ   \n",
       "4          7            2             120 2017-11-03    Vendedor 2     RJ   \n",
       "1          4            1              89 2017-11-03    Vendedor 1     SP   \n",
       "16        26            5             673 2017-11-11    Vendedor 5     MG   \n",
       "17        27            5             201 2017-12-05    Vendedor 5     MG   \n",
       "18        30            8             438 2017-12-05    Vendedor 8     SP   \n",
       "19        31            8             128 2017-12-09    Vendedor 8     SP   \n",
       "9         15            5             985 2017-12-09    Vendedor 5     MG   \n",
       "\n",
       "   MONTH  \n",
       "13     6  \n",
       "21     6  \n",
       "22     6  \n",
       "14     6  \n",
       "5      7  \n",
       "7      7  \n",
       "15     7  \n",
       "25     8  \n",
       "8      8  \n",
       "2      9  \n",
       "24     9  \n",
       "20     9  \n",
       "26     9  \n",
       "0      9  \n",
       "10     9  \n",
       "3      9  \n",
       "27     9  \n",
       "11    10  \n",
       "6     10  \n",
       "23    10  \n",
       "12    10  \n",
       "4     11  \n",
       "1     11  \n",
       "16    11  \n",
       "17    12  \n",
       "18    12  \n",
       "19    12  \n",
       "9     12  "
      ]
     },
     "execution_count": 65,
     "metadata": {},
     "output_type": "execute_result"
    }
   ],
   "source": [
    "df_dias"
   ]
  },
  {
   "cell_type": "code",
   "execution_count": null,
   "metadata": {},
   "outputs": [],
   "source": []
  },
  {
   "cell_type": "markdown",
   "metadata": {},
   "source": [
    "## Exibir todas as vendas de cada vendedor, acumulando(somando) as vendas até aquele momento da venda"
   ]
  },
  {
   "cell_type": "code",
   "execution_count": null,
   "metadata": {},
   "outputs": [],
   "source": []
  }
 ],
 "metadata": {
  "kernelspec": {
   "display_name": "Python 3",
   "language": "python",
   "name": "python3"
  },
  "language_info": {
   "codemirror_mode": {
    "name": "ipython",
    "version": 3
   },
   "file_extension": ".py",
   "mimetype": "text/x-python",
   "name": "python",
   "nbconvert_exporter": "python",
   "pygments_lexer": "ipython3",
   "version": "3.7.6"
  },
  "nbTranslate": {
   "displayLangs": [
    "*"
   ],
   "hotkey": "alt-t",
   "langInMainMenu": true,
   "sourceLang": "en",
   "targetLang": "fr",
   "useGoogleTranslate": true
  },
  "toc": {
   "base_numbering": 1,
   "nav_menu": {},
   "number_sections": true,
   "sideBar": true,
   "skip_h1_title": false,
   "title_cell": "Table of Contents",
   "title_sidebar": "Contents",
   "toc_cell": false,
   "toc_position": {},
   "toc_section_display": true,
   "toc_window_display": false
  }
 },
 "nbformat": 4,
 "nbformat_minor": 4
}
